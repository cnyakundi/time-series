{
  "nbformat": 4,
  "nbformat_minor": 0,
  "metadata": {
    "colab": {
      "name": "ACF and PACF.ipynb",
      "provenance": [],
      "authorship_tag": "ABX9TyNX1Zv3GeXu6E39aXs9I78I",
      "include_colab_link": true
    },
    "kernelspec": {
      "name": "python3",
      "display_name": "Python 3"
    },
    "language_info": {
      "name": "python"
    }
  },
  "cells": [
    {
      "cell_type": "markdown",
      "metadata": {
        "id": "view-in-github",
        "colab_type": "text"
      },
      "source": [
        "<a href=\"https://colab.research.google.com/github/cnyakundi/time-series/blob/master/ACF_and_PACF.ipynb\" target=\"_parent\"><img src=\"https://colab.research.google.com/assets/colab-badge.svg\" alt=\"Open In Colab\"/></a>"
      ]
    },
    {
      "cell_type": "markdown",
      "metadata": {
        "id": "QdGpzKlbNtEU"
      },
      "source": [
        "# ACF and PACF"
      ]
    },
    {
      "cell_type": "markdown",
      "metadata": {
        "id": "FKgL56dvNzTq"
      },
      "source": [
        "# ACF and PACF\n",
        "# Autocorrelation Function / Partial Autocorrelation Function\n",
        "Before we can investigate <em>autoregression</em> as a modeling tool, we need to look at <em>covariance</em> and <em>correlation</em> as they relate to lagged (shifted) samples of a time series.\n",
        "\n",
        "\n",
        "### Goals\n",
        " * Be able to create ACF and PACF charts\n",
        " * Create these charts for multiple times series, one with seasonality and another without\n",
        " * Be able to calculate Orders PQD terms for ARIMA off these charts (highlight where they cross the x axis)\n",
        " \n",
        "<div class=\"alert alert-info\"><h3>Related Functions:</h3>\n",
        "<tt><strong>\n",
        "<a href='https://www.statsmodels.org/stable/generated/statsmodels.tsa.stattools.acovf.html'>stattools.acovf</a></strong><font color=black>(x[, unbiased, demean, fft, …])</font>&nbsp;Autocovariance for 1D<br>\n",
        "<strong><a href='https://www.statsmodels.org/stable/generated/statsmodels.tsa.stattools.acf.html'>stattools.acf</a></strong><font color=black>(x[, unbiased, nlags, qstat, …])</font>&nbsp;&nbsp;Autocorrelation function for 1d arrays<br>\n",
        "<strong><a href='https://www.statsmodels.org/stable/generated/statsmodels.tsa.stattools.pacf.html'>stattools.pacf</a></strong><font color=black>(x[, nlags, method, alpha])</font>&nbsp;&nbsp;&nbsp;&nbsp;&nbsp;&nbsp;Partial autocorrelation estimated<br>\n",
        "<strong><a href='https://www.statsmodels.org/stable/generated/statsmodels.tsa.stattools.pacf_yw.html'>stattools.pacf_yw</a></strong><font color=black>(x[, nlags, method])</font>&nbsp;&nbsp;&nbsp;&nbsp;&nbsp;&nbsp;&nbsp;&nbsp;&nbsp;&nbsp;Partial autocorrelation estimated with non-recursive yule_walker<br>\n",
        "<strong><a href='https://www.statsmodels.org/stable/generated/statsmodels.tsa.stattools.pacf_ols.html'>stattools.pacf_ols</a></strong><font color=black>(x[, nlags])</font>&nbsp;&nbsp;&nbsp;&nbsp;&nbsp;&nbsp;&nbsp;&nbsp;&nbsp;&nbsp;&nbsp;&nbsp;&nbsp;&nbsp;&nbsp;&nbsp;&nbsp;Calculate partial autocorrelations</tt>\n",
        "   \n",
        "<h3>Related Plot Methods:</h3>\n",
        "<tt><strong>\n",
        "<a href='https://www.statsmodels.org/stable/generated/statsmodels.graphics.tsaplots.plot_acf.html'>tsaplots.plot_acf</a></strong><font color=black>(x)</font>&nbsp;&nbsp;&nbsp;Plot the autocorrelation function<br>\n",
        "<strong><a href='https://www.statsmodels.org/stable/generated/statsmodels.graphics.tsaplots.plot_pacf.html'>tsaplots.plot_pacf</a></strong><font color=black>(x)</font>&nbsp;&nbsp;Plot the partial autocorrelation function</tt>\n",
        "\n",
        "<h3>For Further Reading:</h3>\n",
        "<strong>\n",
        "<a href='https://en.wikipedia.org/wiki/Autocovariance'>Wikipedia:</a></strong>&nbsp;&nbsp;<font color=black>Autocovariance</font><br>\n",
        "<strong>\n",
        "<a href='https://otexts.com/fpp2/autocorrelation.html'>Forecasting: Principles and Practice</a></strong>&nbsp;&nbsp;<font color=black>Autocorrelation</font><br>\n",
        "<strong>\n",
        "<a href='https://www.itl.nist.gov/div898/handbook/pmc/section4/pmc4463.htm'>NIST Statistics Handbook</a></strong>&nbsp;&nbsp;<font color=black>Partial Autocorrelation Plot</font></div>\n"
      ]
    },
    {
      "cell_type": "markdown",
      "metadata": {
        "id": "XC8EGH9hOExR"
      },
      "source": [
        "## Perform standard imports and load datasets"
      ]
    },
    {
      "cell_type": "code",
      "metadata": {
        "colab": {
          "base_uri": "https://localhost:8080/"
        },
        "id": "ckAuxEHiOFkt",
        "outputId": "746958eb-5c10-49c2-eca2-2b8015eeed1c"
      },
      "source": [
        "import pandas as pd\n",
        "import numpy as np\n",
        "%matplotlib inline\n",
        "import statsmodels.api as sm"
      ],
      "execution_count": 1,
      "outputs": [
        {
          "output_type": "stream",
          "name": "stderr",
          "text": [
            "/usr/local/lib/python3.7/dist-packages/statsmodels/tools/_testing.py:19: FutureWarning: pandas.util.testing is deprecated. Use the functions in the public API at pandas.testing instead.\n",
            "  import pandas.util.testing as tm\n"
          ]
        }
      ]
    },
    {
      "cell_type": "code",
      "metadata": {
        "id": "aqAW5RvxOIp2"
      },
      "source": [
        "# Load a non-stationary dataset\n",
        "df1 = pd.read_csv('airline_passengers.csv',index_col='Month',parse_dates=True)\n",
        "df1.index.freq = 'MS'\n",
        "\n",
        "# Load a stationary dataset\n",
        "df2 = pd.read_csv('DailyTotalFemaleBirths.csv',index_col='Date',parse_dates=True)\n",
        "df2.index.freq = 'D'"
      ],
      "execution_count": 3,
      "outputs": []
    },
    {
      "cell_type": "code",
      "metadata": {
        "id": "pCXkNdRFOXMZ"
      },
      "source": [
        "# Import the models we'll be using in this section\n",
        "from statsmodels.tsa.stattools import acovf,acf,pacf,pacf_yw,pacf_ols"
      ],
      "execution_count": 6,
      "outputs": []
    },
    {
      "cell_type": "markdown",
      "metadata": {
        "id": "ky740io1PqAg"
      },
      "source": [
        "### Ignore harmless warnings\n",
        "A quick note before we get started. Many of the models used in this and upcoming sections are likely to raise harmless warnings.<br>For instance, the unbiased partial autocorrelation <tt>pacf_yw()</tt> performed below may raise a <tt>RuntimeWarning: invalid value encountered in sqrt</tt>.<br>\n",
        "We don't really need to be concerned with this, and we can avoid it with the following code"
      ]
    },
    {
      "cell_type": "code",
      "metadata": {
        "id": "Y3FInjddOwek"
      },
      "source": [
        "import warnings \n",
        "\n",
        "warnings.filterwarnings(\"ignore\")"
      ],
      "execution_count": 7,
      "outputs": []
    },
    {
      "cell_type": "markdown",
      "metadata": {
        "id": "ZDVAwHKrQMNw"
      },
      "source": [
        "## Autocovariance for 1D\n",
        "In a <em>deterministic</em> process, like $y=sin(x)$, we always know the value of $y$ for a given value of $x$. However, in a <em>stochastic</em> process there is always some randomness that prevents us from knowing the value of $y$. Instead, we analyze the past (or <em>lagged</em>) behavior of the system to derive a probabilistic estimate for $\\hat{y}$.\n",
        "\n",
        "One useful descriptor is <em>covariance</em>. When talking about dependent and independent $x$ and $y$ variables, covariance describes how the variance in $x$ relates to the variance in $y$. Here the size of the covariance isn't really important, as $x$ and $y$ may have very different scales. However, if the covariance is positive it means that $x$ and $y$ are changing in the same direction, and may be related.\n",
        "\n",
        "With a time series, $x$ is a fixed interval. Here we want to look at the variance of $y_t$ against lagged or shifted values of $y_{t+k}$\n",
        "\n",
        "For a stationary time series, the autocovariance function for $\\gamma$ (gamma) is given as:\n",
        "\n",
        "${\\displaystyle {\\gamma}_{XX}(t_{1},t_{2})=\\operatorname {Cov} \\left[X_{t_{1}},X_{t_{2}}\\right]=\\operatorname {E} [(X_{t_{1}}-\\mu _{t_{1}})(X_{t_{2}}-\\mu _{t_{2}})]}$\n",
        "\n",
        "We can calculate a specific $\\gamma_k$ with:\n",
        "\n",
        "${\\displaystyle \\gamma_k = \\frac 1 n \\sum\\limits_{t=1}^{n-k} (y_t - \\bar{y})(y_{t+k}-\\bar{y})}$\n"
      ]
    },
    {
      "cell_type": "markdown",
      "metadata": {
        "id": "kjb0Vkx6U_7E"
      },
      "source": [
        "<div class=\"alert alert-info\"><strong>A NOTE ON FORMULA CONVENTIONS:</strong> Different texts employ different symbol conventions. For example, in the above autocovariance formula we use $k$ to represent the amount of lag or shift. Some texts use $h$ instead.</div>\n"
      ]
    },
    {
      "cell_type": "markdown",
      "metadata": {
        "id": "npt036ORVCwh"
      },
      "source": [
        "### Autocovariance Example:"
      ]
    },
    {
      "cell_type": "markdown",
      "metadata": {
        "id": "3Y6jZxEaVFgk"
      },
      "source": [
        "### Autocovariance Example:\n",
        "Say we have a time series with five observations: {13, 5, 11, 12, 9}.<br>\n",
        "We can quickly see that $n = 5$, the mean $\\bar{y} = 10$, and we'll see that the variance $\\sigma^2 = 8$.<br>\n",
        "The following calculations give us our covariance values:\n",
        "<br><br>\n",
        "$\\gamma_0 = \\frac {(13-10)(13-10)+(5-10)(5-10)+(11-10)(11-10)+(12-10)(12-10)+(9-10)(9-10)} 5 = \\frac {40} 5 = 8.0 \\\\\n",
        "\\gamma_1 = \\frac {(13-10)(5-10)+(5-10)(11-10)+(11-10)(12-10)+(12-10)(9-10)} 5 = \\frac {-20} 5 = -4.0 \\\\\n",
        "\\gamma_2 = \\frac {(13-10)(11-10)+(5-10)(12-10)+(11-10)(9-10)} 5 = \\frac {-8} 5 = -1.6 \\\\\n",
        "\\gamma_3 = \\frac {(13-10)(12-10)+(5-10)(9-10)} 5 = \\frac {11} 5 = 2.2 \\\\\n",
        "\\gamma_4 = \\frac {(13-10)(9-10)} 5 = \\frac {-3} 5 = -0.6$\n",
        "<br><br>\n",
        "Note that $\\gamma_0$ is just the population variance $\\sigma^2$\n",
        "\n",
        "Let's see if statsmodels gives us the same results! For this we'll create a <strong>fake</strong> dataset:"
      ]
    },
    {
      "cell_type": "code",
      "metadata": {
        "colab": {
          "base_uri": "https://localhost:8080/"
        },
        "id": "ynqIlZHzQI66",
        "outputId": "cac7b9e7-a4bb-4eb8-8fdd-68c19ab26dde"
      },
      "source": [
        "df = pd.DataFrame({'a':[13, 5, 11, 12, 9]})\n",
        "arr = acovf(df['a'])\n",
        "arr"
      ],
      "execution_count": 9,
      "outputs": [
        {
          "output_type": "execute_result",
          "data": {
            "text/plain": [
              "array([ 8. , -4. , -1.6,  2.2, -0.6])"
            ]
          },
          "metadata": {},
          "execution_count": 9
        }
      ]
    },
    {
      "cell_type": "markdown",
      "metadata": {
        "id": "vIAPAmLXVQak"
      },
      "source": [
        "### Unbiased Autocovariance\n",
        "Note that the number of terms in the calculations above are decreasing.<br>Statsmodels can return an \"unbiased\" autocovariance where instead of dividing by $n$ we divide by $n-k$.\n",
        "\n",
        "$\\gamma_0 = \\frac {(13-10)(13-10)+(5-10)(5-10)+(11-10)(11-10)+(12-10)(12-10)+(9-10)(9-10)} {5-0} = \\frac {40} 5 = 8.0 \\\\\n",
        "\\gamma_1 = \\frac {(13-10)(5-10)+(5-10)(11-10)+(11-10)(12-10)+(12-10)(9-10)} {5-1} = \\frac {-20} 4 = -5.0 \\\\\n",
        "\\gamma_2 = \\frac {(13-10)(11-10)+(5-10)(12-10)+(11-10)(9-10)} {5-2} = \\frac {-8} 3 = -2.67 \\\\\n",
        "\\gamma_3 = \\frac {(13-10)(12-10)+(5-10)(9-10)} {5-3} = \\frac {11} 2 = 5.5 \\\\\n",
        "\\gamma_4 = \\frac {(13-10)(9-10)} {5-4} = \\frac {-3} 1 = -3.0$"
      ]
    },
    {
      "cell_type": "code",
      "metadata": {
        "colab": {
          "base_uri": "https://localhost:8080/"
        },
        "id": "cMmSgAfqVQ7X",
        "outputId": "0a42eba9-9e76-4085-a679-4f91476e46a7"
      },
      "source": [
        "arr2 = acovf(df['a'],unbiased=True)\n",
        "arr2"
      ],
      "execution_count": 10,
      "outputs": [
        {
          "output_type": "execute_result",
          "data": {
            "text/plain": [
              "array([ 8.        , -5.        , -2.66666667,  5.5       , -3.        ])"
            ]
          },
          "metadata": {},
          "execution_count": 10
        }
      ]
    },
    {
      "cell_type": "markdown",
      "metadata": {
        "id": "6RqaB1V6VY7R"
      },
      "source": [
        "## Autocorrelation for 1D\n",
        "The correlation $\\rho$ (rho) between two variables $y_1,y_2$ is given as:\n",
        "\n",
        "### $\\rho = \\frac {\\operatorname E[(y_1−\\mu_1)(y_2−\\mu_2)]} {\\sigma_{1}\\sigma_{2}} = \\frac {\\operatorname {Cov} (y_1,y_2)} {\\sigma_{1}\\sigma_{2}}$,\n",
        "\n",
        "where $E$ is the expectation operator, $\\mu_{1},\\sigma_{1}$ and $\\mu_{2},\\sigma_{2}$ are the means and standard deviations of $y_1$ and $y_2$.\n",
        "\n",
        "When working with a single variable (i.e. <em>autocorrelation</em>) we would consider $y_1$ to be the original series and $y_2$ a lagged version of it. Note that with autocorrelation we work with $\\bar y$, that is, the full population mean, and <em>not</em> the means of the reduced set of lagged factors (see note below).\n",
        "\n",
        "Thus, the formula for $\\rho_k$ for a time series at lag $k$ is:\n",
        "\n",
        "${\\displaystyle \\rho_k = \\frac {\\sum\\limits_{t=1}^{n-k} (y_t - \\bar{y})(y_{t+k}-\\bar{y})} {\\sum\\limits_{t=1}^{n} (y_t - \\bar{y})^2}}$\n",
        "\n",
        "This can be written in terms of the covariance constant $\\gamma_k$ as:\n",
        "\n",
        "${\\displaystyle \\rho_k = \\frac {\\gamma_k n} {\\gamma_0 n} = \\frac {\\gamma_k} {\\sigma^2}}$\n",
        "\n",
        "For example,<br>\n",
        "$\\rho_4 = \\frac {\\gamma_4} {\\sigma^2} = \\frac{-0.6} {8} = -0.075$\n",
        "\n",
        "Note that ACF values are bound by -1 and 1. That is, ${\\displaystyle -1 \\leq \\rho_k \\leq 1}$"
      ]
    },
    {
      "cell_type": "code",
      "metadata": {
        "colab": {
          "base_uri": "https://localhost:8080/"
        },
        "id": "XnoD9W8jVS2q",
        "outputId": "cba6e193-287c-4d77-d2a9-e41b1e6f7aa1"
      },
      "source": [
        "arr3 = acf(df['a'])\n",
        "arr3"
      ],
      "execution_count": 11,
      "outputs": [
        {
          "output_type": "execute_result",
          "data": {
            "text/plain": [
              "array([ 1.   , -0.5  , -0.2  ,  0.275, -0.075])"
            ]
          },
          "metadata": {},
          "execution_count": 11
        }
      ]
    },
    {
      "cell_type": "markdown",
      "metadata": {
        "id": "_Iote0ACVlyL"
      },
      "source": [
        "## Partial Autocorrelation\n",
        "Partial autocorrelations measure the linear dependence of one variable after removing the effect of other variable(s) that affect both variables. That is, the partial autocorrelation at lag $k$ is the autocorrelation between $y_t$ and $y_{t+k}$ that is not accounted for by lags $1$ through $k−1$.\n",
        "\n",
        "A common method employs the non-recursive <a href='https://en.wikipedia.org/wiki/Autoregressive_model#Calculation_of_the_AR_parameters'>Yule-Walker Equations</a>:\n",
        "\n",
        "$\\phi_0 = 1\\\\\n",
        "\\phi_1 = \\rho_1 = -0.50\\\\\n",
        "\\phi_2 = \\frac {\\rho_2 - {\\rho_1}^2} {1-{\\rho_1}^2} = \\frac {(-0.20) - {(-0.50)}^2} {1-{(-0.50)}^2}= \\frac {-0.45} {0.75} = -0.60$"
      ]
    },
    {
      "cell_type": "markdown",
      "metadata": {
        "id": "wj6OG6WHVpa0"
      },
      "source": [
        "As $k$ increases, we can solve for $\\phi_k$ using matrix algebra and the <a href='https://en.wikipedia.org/wiki/Levinson_recursion'>Levinson–Durbin recursion</a> algorithm which maps the sample autocorrelations $\\rho$ to a <a href='https://en.wikipedia.org/wiki/Toeplitz_matrix'>Toeplitz</a> diagonal-constant matrix. The full solution is beyond the scope of this course, but the setup is as follows:\n",
        "\n",
        "\n",
        "$\\displaystyle \\begin{pmatrix}\\rho_0&\\rho_1&\\cdots &\\rho_{k-1}\\\\\n",
        "\\rho_1&\\rho_0&\\cdots &\\rho_{k-2}\\\\\n",
        "\\vdots &\\vdots &\\ddots &\\vdots \\\\\n",
        "\\rho_{k-1}&\\rho_{k-2}&\\cdots &\\rho_0\\\\\n",
        "\\end{pmatrix}\\quad \\begin{pmatrix}\\phi_{k1}\\\\\\phi_{k2}\\\\\\vdots\\\\\\phi_{kk}\\end{pmatrix}\n",
        "\\mathbf = \\begin{pmatrix}\\rho_1\\\\\\rho_2\\\\\\vdots\\\\\\rho_k\\end{pmatrix}$"
      ]
    },
    {
      "cell_type": "code",
      "metadata": {
        "colab": {
          "base_uri": "https://localhost:8080/"
        },
        "id": "jIk6Y6aMVmSx",
        "outputId": "33806705-66c0-420d-9b63-dfd587112fc2"
      },
      "source": [
        "arr4 = pacf_yw(df['a'],nlags=4,method='mle')\n",
        "arr4"
      ],
      "execution_count": 12,
      "outputs": [
        {
          "output_type": "execute_result",
          "data": {
            "text/plain": [
              "array([ 1.        , -0.5       , -0.6       , -0.38541667, -0.40563273])"
            ]
          },
          "metadata": {},
          "execution_count": 12
        }
      ]
    },
    {
      "cell_type": "markdown",
      "metadata": {
        "id": "Cohc8YcHVvaa"
      },
      "source": [
        "<div class=\"alert alert-info\"><strong>NOTE:</strong> We passed in <tt><font color=black>method='mle'</font></tt> above in order to use biased ACF coefficients. \"mle\" stands for \"maximum likelihood estimation\". Alternatively we can pass <tt>method='unbiased'</tt> (the statsmodels default):</div>"
      ]
    },
    {
      "cell_type": "code",
      "metadata": {
        "colab": {
          "base_uri": "https://localhost:8080/"
        },
        "id": "WsfiRZPEVsPe",
        "outputId": "aaf6cf22-1163-474f-aabe-b6cadd3534d9"
      },
      "source": [
        "arr5 = pacf_yw(df['a'],nlags=4,method='unbiased')\n",
        "arr5"
      ],
      "execution_count": 13,
      "outputs": [
        {
          "output_type": "execute_result",
          "data": {
            "text/plain": [
              "array([ 1.        , -0.625     , -1.18803419,  2.03764205,  0.8949589 ])"
            ]
          },
          "metadata": {},
          "execution_count": 13
        }
      ]
    },
    {
      "cell_type": "markdown",
      "metadata": {
        "id": "5AZzITAgV3IP"
      },
      "source": [
        "### Partial Autocorrelation with OLS\n",
        "This provides partial autocorrelations with <a href='https://en.wikipedia.org/wiki/Ordinary_least_squares'>ordinary least squares</a> (OLS) estimates for each lag instead of Yule-Walker."
      ]
    },
    {
      "cell_type": "code",
      "metadata": {
        "colab": {
          "base_uri": "https://localhost:8080/"
        },
        "id": "ombLEStlV0MI",
        "outputId": "456fb9c7-ce9f-4ce6-bf70-f455b34c9519"
      },
      "source": [
        "arr6 = pacf_ols(df['a'],nlags=4)\n",
        "arr6"
      ],
      "execution_count": 14,
      "outputs": [
        {
          "output_type": "execute_result",
          "data": {
            "text/plain": [
              "array([ 1.        , -0.49677419, -0.43181818,  0.53082621,  0.25434783])"
            ]
          },
          "metadata": {},
          "execution_count": 14
        }
      ]
    },
    {
      "cell_type": "markdown",
      "metadata": {
        "id": "_vBP9Nx5V-D8"
      },
      "source": [
        "# Plotting\n",
        "The arrays returned by <tt>.acf(df)</tt> and <tt>.pacf_yw(df)</tt> show the magnitude of the autocorrelation for a given $y$ at time $t$. Before we look at plotting arrays, let's look at the data itself for evidence of autocorrelation.\n",
        "\n",
        "Pandas has a built-in plotting function that plots increasing $y_t$ values on the horizontal axis against lagged versions of the values $y_{t+1}$ on the vertical axis. If a dataset is non-stationary with an upward trend, then neighboring values should trend in the same way. Let's look at the <strong>Airline Passengers</strong> dataset first."
      ]
    },
    {
      "cell_type": "code",
      "metadata": {
        "colab": {
          "base_uri": "https://localhost:8080/",
          "height": 278
        },
        "id": "fFHda1-OV67B",
        "outputId": "df6eeb77-d266-4adc-8876-b78841c5a4a2"
      },
      "source": [
        "from pandas.plotting import lag_plot\n",
        "lag_plot(df1['Thousands of Passengers']);"
      ],
      "execution_count": 16,
      "outputs": [
        {
          "output_type": "display_data",
          "data": {
            "image/png": "[encoded data removed]",
            "text/plain": [
              "<Figure size 432x288 with 1 Axes>"
            ]
          },
          "metadata": {
            "needs_background": "light"
          }
        }
      ]
    },
    {
      "cell_type": "markdown",
      "metadata": {
        "id": "pCT9oaJ0WYzU"
      },
      "source": [
        "Visually this shows evidence of a very strong autocorrelation; as $y_t$ values increase, nearby (lagged) values also increase.\n",
        "\n",
        "Now let's look at the stationary <strong>Daily Total Female Births</strong> dataset:"
      ]
    },
    {
      "cell_type": "code",
      "metadata": {
        "colab": {
          "base_uri": "https://localhost:8080/",
          "height": 278
        },
        "id": "XxDUACheWZ05",
        "outputId": "d8e8a636-8dc8-488a-fff5-a25f7aadb9bd"
      },
      "source": [
        "lag_plot(df2['Births']);"
      ],
      "execution_count": 17,
      "outputs": [
        {
          "output_type": "display_data",
          "data": {
            "image/png": "[encoded data removed]",
            "text/plain": [
              "<Figure size 432x288 with 1 Axes>"
            ]
          },
          "metadata": {
            "needs_background": "light"
          }
        }
      ]
    },
    {
      "cell_type": "markdown",
      "metadata": {
        "id": "qTcPr6QVWfwp"
      },
      "source": [
        "As expected, there is little evidence of autocorrelation here."
      ]
    },
    {
      "cell_type": "markdown",
      "metadata": {
        "id": "Hkk6hlH4Wk14"
      },
      "source": [
        "## ACF Plots\n",
        "Plotting the magnitude of the autocorrelations over the first few (20-40) lags can say a lot about a time series.\n",
        "\n",
        "For example, consider the stationary <strong>Daily Total Female Births</strong> dataset:"
      ]
    },
    {
      "cell_type": "code",
      "metadata": {
        "id": "Yc-gaVIHWgZ5"
      },
      "source": [
        "from statsmodels.graphics.tsaplots import plot_acf,plot_pacf"
      ],
      "execution_count": 18,
      "outputs": []
    },
    {
      "cell_type": "code",
      "metadata": {
        "colab": {
          "base_uri": "https://localhost:8080/"
        },
        "id": "5OLRY1y8Wp_h",
        "outputId": "39410eb8-6cf1-4320-859a-eece29710421"
      },
      "source": [
        "# Let's look first at the ACF array. By default acf() returns 40 lags\n",
        "acf(df2['Births'])"
      ],
      "execution_count": 19,
      "outputs": [
        {
          "output_type": "execute_result",
          "data": {
            "text/plain": [
              "array([ 1.        ,  0.21724118,  0.15287758,  0.10821254,  0.09066059,\n",
              "        0.09595481,  0.09104012,  0.19508071,  0.14115295,  0.06117859,\n",
              "        0.04781522,  0.04770662, -0.01964707,  0.02287422,  0.08112657,\n",
              "        0.11185686,  0.07333732,  0.01501845,  0.07270333,  0.06859   ,\n",
              "        0.09280107,  0.26386846,  0.14012147,  0.06070286,  0.08716232,\n",
              "        0.05038825,  0.0650489 ,  0.11466565,  0.1552232 ,  0.12850638,\n",
              "        0.10358981,  0.09734643,  0.04912286,  0.04022798,  0.05838555,\n",
              "        0.05359812,  0.10151053,  0.08268663,  0.0912185 ,  0.11192192,\n",
              "        0.05652846])"
            ]
          },
          "metadata": {},
          "execution_count": 19
        }
      ]
    },
    {
      "cell_type": "code",
      "metadata": {
        "colab": {
          "base_uri": "https://localhost:8080/",
          "height": 281
        },
        "id": "Zsh8PptCWsHW",
        "outputId": "ae534e6b-4486-4802-d9ef-8e5767eadae7"
      },
      "source": [
        "# Now let's plot the autocorrelation at different lags\n",
        "title = 'Autocorrelation: Daily Female Births'\n",
        "lags = 40\n",
        "plot_acf(df2,title=title,lags=lags);"
      ],
      "execution_count": 20,
      "outputs": [
        {
          "output_type": "display_data",
          "data": {
            "image/png": "[encoded data removed]",
            "text/plain": [
              "<Figure size 432x288 with 1 Axes>"
            ]
          },
          "metadata": {
            "needs_background": "light"
          }
        }
      ]
    },
    {
      "cell_type": "markdown",
      "metadata": {
        "id": "_k4mamXrW-jP"
      },
      "source": [
        "This is a typical ACF plot for stationary data, with lags on the horizontal axis and correlations on the vertical axis. The first value $y_0$ is always 1. A sharp dropoff indicates that there is no AR component in the ARIMA model.\n",
        "\n",
        "Next we'll look at non-stationary data with the <strong>Airline Passengers</strong> dataset:"
      ]
    },
    {
      "cell_type": "code",
      "metadata": {
        "colab": {
          "base_uri": "https://localhost:8080/"
        },
        "id": "lWyfuE1qW5QR",
        "outputId": "907b1868-29d1-417d-d6cd-2989b8c6ea0e"
      },
      "source": [
        "acf(df1['Thousands of Passengers'])"
      ],
      "execution_count": 21,
      "outputs": [
        {
          "output_type": "execute_result",
          "data": {
            "text/plain": [
              "array([1.        , 0.94804734, 0.87557484, 0.80668116, 0.75262542,\n",
              "       0.71376997, 0.6817336 , 0.66290439, 0.65561048, 0.67094833,\n",
              "       0.70271992, 0.74324019, 0.76039504, 0.71266087, 0.64634228,\n",
              "       0.58592342, 0.53795519, 0.49974753, 0.46873401, 0.44987066,\n",
              "       0.4416288 , 0.45722376, 0.48248203, 0.51712699, 0.53218983,\n",
              "       0.49397569, 0.43772134, 0.3876029 , 0.34802503, 0.31498388,\n",
              "       0.28849682, 0.27080187, 0.26429011, 0.27679934, 0.2985215 ,\n",
              "       0.32558712, 0.3370236 , 0.30333486, 0.25397708, 0.21065534,\n",
              "       0.17217092])"
            ]
          },
          "metadata": {},
          "execution_count": 21
        }
      ]
    },
    {
      "cell_type": "code",
      "metadata": {
        "colab": {
          "base_uri": "https://localhost:8080/",
          "height": 281
        },
        "id": "J6kkkYPiXBwe",
        "outputId": "7d1b5afe-a0aa-437b-c7d4-cb7489d11e3e"
      },
      "source": [
        "title = 'Autocorrelation: Airline Passengers'\n",
        "lags = 40\n",
        "plot_acf(df1,title=title,lags=lags);"
      ],
      "execution_count": 22,
      "outputs": [
        {
          "output_type": "display_data",
          "data": {
            "image/png": "[encoded data removed]",
            "text/plain": [
              "<Figure size 432x288 with 1 Axes>"
            ]
          },
          "metadata": {
            "needs_background": "light"
          }
        }
      ]
    },
    {
      "cell_type": "markdown",
      "metadata": {
        "id": "9k1eWVzhXNCT"
      },
      "source": [
        "This plot indicates non-stationary data, as there are a large number of lags before ACF values drop off."
      ]
    },
    {
      "cell_type": "markdown",
      "metadata": {
        "id": "vjxS2WAJXQoB"
      },
      "source": [
        "## PACF Plots\n",
        "Partial autocorrelations work best with stationary data. Let's look first at <strong>Daily Total Female Births</strong>:"
      ]
    },
    {
      "cell_type": "code",
      "metadata": {
        "colab": {
          "base_uri": "https://localhost:8080/",
          "height": 281
        },
        "id": "4QML0wXNXIvt",
        "outputId": "f7aa6c89-bc40-4653-f5ab-7a0a322033ea"
      },
      "source": [
        "title='Partial Autocorrelation: Daily Female Births'\n",
        "lags=40\n",
        "plot_pacf(df2,title=title,lags=lags);"
      ],
      "execution_count": 23,
      "outputs": [
        {
          "output_type": "display_data",
          "data": {
            "image/png": "[encoded data removed]",
            "text/plain": [
              "<Figure size 432x288 with 1 Axes>"
            ]
          },
          "metadata": {
            "needs_background": "light"
          }
        }
      ]
    },
    {
      "cell_type": "markdown",
      "metadata": {
        "id": "NvqNIhs5XdHw"
      },
      "source": [
        "To make the <strong>Airline Passengers</strong> data stationary, we'll first apply <em>differencing</em>:"
      ]
    },
    {
      "cell_type": "code",
      "metadata": {
        "colab": {
          "base_uri": "https://localhost:8080/",
          "height": 325
        },
        "id": "YQMz7PldXUnA",
        "outputId": "f14a4cd1-c578-4b4e-8663-e467a1dee805"
      },
      "source": [
        "from statsmodels.tsa.statespace.tools import diff\n",
        "\n",
        "df1['d1'] = diff(df1['Thousands of Passengers'],k_diff=1)\n",
        "df1['d1'].plot(figsize=(12,5));"
      ],
      "execution_count": 24,
      "outputs": [
        {
          "output_type": "display_data",
          "data": {
            "image/png": "[encoded data removed]",
            "text/plain": [
              "<Figure size 864x360 with 1 Axes>"
            ]
          },
          "metadata": {
            "needs_background": "light"
          }
        }
      ]
    },
    {
      "cell_type": "code",
      "metadata": {
        "colab": {
          "base_uri": "https://localhost:8080/",
          "height": 281
        },
        "id": "0AJ29D1RXiCP",
        "outputId": "cc637e9a-b9a0-4c59-bf2b-ea6004ee43d8"
      },
      "source": [
        "title='PACF: Airline Passengers First Difference'\n",
        "lags=40\n",
        "plot_pacf(df1['d1'].dropna(),title=title,lags=np.arange(lags));  # be sure to add .dropna() here!"
      ],
      "execution_count": 25,
      "outputs": [
        {
          "output_type": "display_data",
          "data": {
            "image/png": "[encoded data removed]",
            "text/plain": [
              "<Figure size 432x288 with 1 Axes>"
            ]
          },
          "metadata": {
            "needs_background": "light"
          }
        }
      ]
    },
    {
      "cell_type": "markdown",
      "metadata": {
        "id": "A-aRLAVAXrdE"
      },
      "source": [
        "### Plot Resizing\n",
        "In case you want to display the full autocorrelation plot, it helps to increase the figure size using matplotlib:"
      ]
    },
    {
      "cell_type": "code",
      "metadata": {
        "colab": {
          "base_uri": "https://localhost:8080/",
          "height": 355
        },
        "id": "otHn5OHfXoXg",
        "outputId": "44cf5b51-4d62-44da-c267-01a849f5fb6f"
      },
      "source": [
        "import matplotlib.pyplot as plt\n",
        "fig, ax = plt.subplots(figsize=(12,5))\n",
        "\n",
        "plot_acf(df1['Thousands of Passengers'],ax=ax);"
      ],
      "execution_count": 27,
      "outputs": [
        {
          "output_type": "display_data",
          "data": {
            "image/png": "[encoded data removed]",
            "text/plain": [
              "<Figure size 864x360 with 1 Axes>"
            ]
          },
          "metadata": {
            "needs_background": "light"
          }
        }
      ]
    },
    {
      "cell_type": "markdown",
      "metadata": {
        "id": "VyzZCLPHYAQW"
      },
      "source": [
        "<div class=\"alert alert-success\"><strong>A NOTE ABOUT AUTOCORRELATION:</strong> Some texts compute lagged correlations using the Pearson Correlation Coefficient given by:<br><br>\n",
        "${\\displaystyle r_{xy}={\\frac {\\sum _{i=1}^{n}(x_{i}-{\\bar {x}})(y_{i}-{\\bar {y}})}{{\\sqrt {\\sum _{i=1}^{n}(x_{i}-{\\bar {x}})^{2}}}{\\sqrt {\\sum _{i=1}^{n}(y_{i}-{\\bar {y}})^{2}}}}}}$\n",
        "\n",
        "These are easily calculated in numpy with <tt>numpy.corrcoef(x,y)</tt> and in Excel with <tt>=CORREL(x,y)</tt>.<br><br>\n",
        "Using our example, $r_0$ is still $1$, but to solve for $r_1$:\n",
        "\n",
        "${\\displaystyle x_1 = [13, 5, 11, 12], \\bar{x_1} = 10.25}$<br><br>\n",
        "$y_1 = [5, 11, 12, 9],\\  \\bar{y_1} = 9.25$<br><br>\n",
        "$r_{{x_1}{y_1}}=\\frac {(13-10.25)(5-9.25)+(5-10.25)(11-9.25)+(11-10.25)(12-9.25)+(12-10.25)(9-9.25)}\n",
        "{\\sqrt{((13-10.25)^2+(5-10.25)^2+(11-10.25)^2+(12-10.25)^2)}\\sqrt{((5-9.25)^2+(11-9.25)^2+(12-9.25)^2+(9-9.25)^2)}} = \\frac {-19.25} {33.38} = -0.577$\n",
        "<br><br>\n",
        "However, there are some shortcomings. Using the Pearson method, the second-to-last term $r_{k-1}$ will always be $1$ and the last term $r_k$ will always be undefined.\n",
        "</div>"
      ]
    },
    {
      "cell_type": "code",
      "metadata": {
        "id": "dxBWra8kXuRP"
      },
      "source": [
        ""
      ],
      "execution_count": null,
      "outputs": []
    }
  ]
}